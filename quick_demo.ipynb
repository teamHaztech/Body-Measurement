{
 "cells": [
  {
   "cell_type": "markdown",
   "metadata": {
    "id": "onuElbMILm28"
   },
   "source": [
    "#installing Python 3.7 on colab using anaconda"
   ]
  },
  {
   "cell_type": "code",
   "execution_count": 1,
   "metadata": {
    "colab": {
     "base_uri": "https://localhost:8080/"
    },
    "id": "I7Fz-D-HEauw",
    "outputId": "2107dfc4-5733-48a0-93f9-7d2e43acba44"
   },
   "outputs": [
    {
     "name": "stderr",
     "output_type": "stream",
     "text": [
      "  % Total    % Received % Xferd  Average Speed   Time    Time     Time  Current\n",
      "                                 Dload  Upload   Total   Spent    Left  Speed\n",
      "\n",
      "  0     0    0     0    0     0      0      0 --:--:-- --:--:-- --:--:--     0\n",
      "100   167  100   167    0     0    330      0 --:--:-- --:--:-- --:--:--   332\n"
     ]
    },
    {
     "name": "stdout",
     "output_type": "stream",
     "text": [
      "W\u0000i\u0000n\u0000d\u0000o\u0000w\u0000s\u0000 \u0000S\u0000u\u0000b\u0000s\u0000y\u0000s\u0000t\u0000e\u0000m\u0000 \u0000f\u0000o\u0000r\u0000 \u0000L\u0000i\u0000n\u0000u\u0000x\u0000 \u0000h\u0000a\u0000s\u0000 \u0000n\u0000o\u0000 \u0000i\u0000n\u0000s\u0000t\u0000a\u0000l\u0000l\u0000e\u0000d\u0000 \u0000d\u0000i\u0000s\u0000t\u0000r\u0000i\u0000b\u0000u\u0000t\u0000i\u0000o\u0000n\u0000s\u0000.\u0000\n",
      "\u0000\n",
      "\u0000\n",
      "\u0000D\u0000i\u0000s\u0000t\u0000r\u0000i\u0000b\u0000u\u0000t\u0000i\u0000o\u0000n\u0000s\u0000 \u0000c\u0000a\u0000n\u0000 \u0000b\u0000e\u0000 \u0000i\u0000n\u0000s\u0000t\u0000a\u0000l\u0000l\u0000e\u0000d\u0000 \u0000b\u0000y\u0000 \u0000v\u0000i\u0000s\u0000i\u0000t\u0000i\u0000n\u0000g\u0000 \u0000t\u0000h\u0000e\u0000 \u0000M\u0000i\u0000c\u0000r\u0000o\u0000s\u0000o\u0000f\u0000t\u0000 \u0000S\u0000t\u0000o\u0000r\u0000e\u0000:\u0000\n",
      "\u0000\n",
      "\u0000\n",
      "\u0000h\u0000t\u0000t\u0000p\u0000s\u0000:\u0000/\u0000/\u0000a\u0000k\u0000a\u0000.\u0000m\u0000s\u0000/\u0000w\u0000s\u0000l\u0000s\u0000t\u0000o\u0000r\u0000e\u0000\n",
      "\u0000\n",
      "\u0000\n",
      "\u0000\n"
     ]
    }
   ],
   "source": [
    "!curl -O https://repo.continuum.io/archive/Anaconda3-5.3.0-Linux-x86_64.sh\n",
    "!chmod +x Anaconda3-5.3.0-Linux-x86_64.sh\n",
    "!bash ./Anaconda3-5.3.0-Linux-x86_64.sh -b -f -p /usr/local\n",
    "import sys\n",
    "sys.path.append('/usr/local/lib/python3.7/site-packages')"
   ]
  },
  {
   "cell_type": "code",
   "execution_count": 2,
   "metadata": {},
   "outputs": [],
   "source": [
    "import sys\n",
    "sys.path.append('C:\\\\conda\\\\Lib\\\\site-packages')"
   ]
  },
  {
   "cell_type": "code",
   "execution_count": 4,
   "metadata": {},
   "outputs": [
    {
     "name": "stdout",
     "output_type": "stream",
     "text": [
      "conda 4.5.11\n"
     ]
    }
   ],
   "source": [
    "!conda --version"
   ]
  },
  {
   "cell_type": "markdown",
   "metadata": {
    "id": "BP6ReYPcLYCF"
   },
   "source": [
    "#checking python version"
   ]
  },
  {
   "cell_type": "code",
   "execution_count": 2,
   "metadata": {
    "colab": {
     "base_uri": "https://localhost:8080/"
    },
    "id": "6o8r4SwQDJ0Y",
    "outputId": "56236b3f-4e46-4eca-dfb8-e4dc09d57b4e"
   },
   "outputs": [
    {
     "name": "stdout",
     "output_type": "stream",
     "text": [
      "Python 3.7.12\n"
     ]
    }
   ],
   "source": [
    "!python --version"
   ]
  },
  {
   "cell_type": "markdown",
   "metadata": {
    "id": "3aQf0QcCFR1m"
   },
   "source": [
    "#Installing Requirements\n",
    "\n",
    "Please restart session after running this cell"
   ]
  },
  {
   "cell_type": "code",
   "execution_count": 5,
   "metadata": {
    "colab": {
     "base_uri": "https://localhost:8080/",
     "height": 1000
    },
    "id": "BqVAfkt2C7pB",
    "outputId": "d8f2f153-adea-42a8-b344-6f3e232a0a76"
   },
   "outputs": [
    {
     "name": "stdout",
     "output_type": "stream",
     "text": [
      "Requirement already satisfied: pip in c:\\conda\\envs\\body_measurements\\lib\\site-packages (24.0)\n",
      "Note: you may need to restart the kernel to use updated packages.\n",
      "Requirement already satisfied: setuptools in c:\\conda\\envs\\body_measurements\\lib\\site-packages (68.0.0)\n",
      "Requirement already satisfied: wheel in c:\\conda\\envs\\body_measurements\\lib\\site-packages (0.42.0)\n",
      "Note: you may need to restart the kernel to use updated packages.\n",
      "Requirement already satisfied: tensorflow==1.13.1 in c:\\conda\\envs\\body_measurements\\lib\\site-packages (1.13.1)\n",
      "Requirement already satisfied: absl-py>=0.1.6 in c:\\conda\\envs\\body_measurements\\lib\\site-packages (from tensorflow==1.13.1) (2.1.0)\n",
      "Requirement already satisfied: astor>=0.6.0 in c:\\conda\\envs\\body_measurements\\lib\\site-packages (from tensorflow==1.13.1) (0.8.1)\n",
      "Requirement already satisfied: gast>=0.2.0 in c:\\conda\\envs\\body_measurements\\lib\\site-packages (from tensorflow==1.13.1) (0.6.0)\n",
      "Requirement already satisfied: keras-applications>=1.0.6 in c:\\conda\\envs\\body_measurements\\lib\\site-packages (from tensorflow==1.13.1) (1.0.8)\n",
      "Requirement already satisfied: keras-preprocessing>=1.0.5 in c:\\conda\\envs\\body_measurements\\lib\\site-packages (from tensorflow==1.13.1) (1.1.2)\n",
      "Requirement already satisfied: numpy>=1.13.3 in c:\\conda\\envs\\body_measurements\\lib\\site-packages (from tensorflow==1.13.1) (1.21.6)\n",
      "Requirement already satisfied: six>=1.10.0 in c:\\conda\\envs\\body_measurements\\lib\\site-packages (from tensorflow==1.13.1) (1.16.0)\n",
      "Requirement already satisfied: protobuf>=3.6.1 in c:\\conda\\envs\\body_measurements\\lib\\site-packages (from tensorflow==1.13.1) (3.20.3)\n",
      "Requirement already satisfied: tensorboard<1.14.0,>=1.13.0 in c:\\conda\\envs\\body_measurements\\lib\\site-packages (from tensorflow==1.13.1) (1.13.1)\n",
      "Requirement already satisfied: tensorflow-estimator<1.14.0rc0,>=1.13.0 in c:\\conda\\envs\\body_measurements\\lib\\site-packages (from tensorflow==1.13.1) (1.13.0)\n",
      "Requirement already satisfied: termcolor>=1.1.0 in c:\\conda\\envs\\body_measurements\\lib\\site-packages (from tensorflow==1.13.1) (2.3.0)\n",
      "Requirement already satisfied: grpcio>=1.8.6 in c:\\conda\\envs\\body_measurements\\lib\\site-packages (from tensorflow==1.13.1) (1.62.3)\n",
      "Requirement already satisfied: wheel>=0.26 in c:\\conda\\envs\\body_measurements\\lib\\site-packages (from tensorflow==1.13.1) (0.42.0)\n",
      "Requirement already satisfied: h5py in c:\\conda\\envs\\body_measurements\\lib\\site-packages (from keras-applications>=1.0.6->tensorflow==1.13.1) (3.8.0)\n",
      "Requirement already satisfied: markdown>=2.6.8 in c:\\conda\\envs\\body_measurements\\lib\\site-packages (from tensorboard<1.14.0,>=1.13.0->tensorflow==1.13.1) (3.4.4)\n",
      "Requirement already satisfied: werkzeug>=0.11.15 in c:\\conda\\envs\\body_measurements\\lib\\site-packages (from tensorboard<1.14.0,>=1.13.0->tensorflow==1.13.1) (2.2.3)\n",
      "Requirement already satisfied: mock>=2.0.0 in c:\\conda\\envs\\body_measurements\\lib\\site-packages (from tensorflow-estimator<1.14.0rc0,>=1.13.0->tensorflow==1.13.1) (5.1.0)\n",
      "Requirement already satisfied: importlib-metadata>=4.4 in c:\\conda\\envs\\body_measurements\\lib\\site-packages (from markdown>=2.6.8->tensorboard<1.14.0,>=1.13.0->tensorflow==1.13.1) (6.7.0)\n",
      "Requirement already satisfied: MarkupSafe>=2.1.1 in c:\\conda\\envs\\body_measurements\\lib\\site-packages (from werkzeug>=0.11.15->tensorboard<1.14.0,>=1.13.0->tensorflow==1.13.1) (2.1.5)\n",
      "Requirement already satisfied: zipp>=0.5 in c:\\conda\\envs\\body_measurements\\lib\\site-packages (from importlib-metadata>=4.4->markdown>=2.6.8->tensorboard<1.14.0,>=1.13.0->tensorflow==1.13.1) (3.15.0)\n",
      "Requirement already satisfied: typing-extensions>=3.6.4 in c:\\conda\\envs\\body_measurements\\lib\\site-packages (from importlib-metadata>=4.4->markdown>=2.6.8->tensorboard<1.14.0,>=1.13.0->tensorflow==1.13.1) (4.7.1)\n",
      "Note: you may need to restart the kernel to use updated packages.\n",
      "C:\\Users\\cardo\\Desktop\\HAZTECH\\Final\\opendr\\opendr\n"
     ]
    },
    {
     "name": "stderr",
     "output_type": "stream",
     "text": [
      "Cloning into 'opendr'...\n"
     ]
    },
    {
     "name": "stdout",
     "output_type": "stream",
     "text": [
      "running install\n",
      "running bdist_egg\n",
      "running egg_info\n",
      "creating opendr.egg-info\n",
      "writing opendr.egg-info\\PKG-INFO\n",
      "writing dependency_links to opendr.egg-info\\dependency_links.txt\n",
      "writing requirements to opendr.egg-info\\requires.txt\n",
      "writing top-level names to opendr.egg-info\\top_level.txt\n",
      "writing manifest file 'opendr.egg-info\\SOURCES.txt'\n",
      "reading manifest file 'opendr.egg-info\\SOURCES.txt'\n",
      "writing manifest file 'opendr.egg-info\\SOURCES.txt'\n",
      "installing library code to build\\bdist.win-amd64\\egg\n",
      "running install_lib\n",
      "running build_py\n",
      "creating build\n",
      "creating build\\lib\n",
      "creating build\\lib\\opendr\n",
      "copying .\\camera.py -> build\\lib\\opendr\n",
      "copying .\\common.py -> build\\lib\\opendr\n",
      "copying .\\cvwrap.py -> build\\lib\\opendr\n",
      "copying .\\dummy.py -> build\\lib\\opendr\n",
      "copying .\\everything.py -> build\\lib\\opendr\n",
      "copying .\\filters.py -> build\\lib\\opendr\n",
      "copying .\\geometry.py -> build\\lib\\opendr\n",
      "copying .\\lighting.py -> build\\lib\\opendr\n",
      "copying .\\occlusion_test.py -> build\\lib\\opendr\n",
      "copying .\\renderer.py -> build\\lib\\opendr\n",
      "copying .\\rogrenderer.py -> build\\lib\\opendr\n",
      "copying .\\serialization.py -> build\\lib\\opendr\n",
      "copying .\\simple.py -> build\\lib\\opendr\n",
      "copying .\\slider_demo.py -> build\\lib\\opendr\n",
      "copying .\\test_camera.py -> build\\lib\\opendr\n",
      "copying .\\test_depth_renderer.py -> build\\lib\\opendr\n",
      "copying .\\test_geometry.py -> build\\lib\\opendr\n",
      "copying .\\test_renderer.py -> build\\lib\\opendr\n",
      "copying .\\test_sh.py -> build\\lib\\opendr\n",
      "copying .\\topology.py -> build\\lib\\opendr\n",
      "copying .\\utils.py -> build\\lib\\opendr\n",
      "copying .\\util_tests.py -> build\\lib\\opendr\n",
      "copying .\\version.py -> build\\lib\\opendr\n",
      "copying .\\__init__.py -> build\\lib\\opendr\n",
      "creating build\\lib\\opendr\\contexts\n",
      "copying .\\contexts\\autogen.py -> build\\lib\\opendr\\contexts\n",
      "copying .\\contexts\\draw_triangle_shaders_2_1.py -> build\\lib\\opendr\\contexts\n",
      "copying .\\contexts\\draw_triangle_shaders_3_2.py -> build\\lib\\opendr\\contexts\n",
      "copying .\\contexts\\fix_warnings.py -> build\\lib\\opendr\\contexts\n",
      "copying .\\contexts\\_constants.py -> build\\lib\\opendr\\contexts\n",
      "copying .\\contexts\\__init__.py -> build\\lib\\opendr\\contexts\n",
      "creating build\\lib\\opendr\\test_dr\n",
      "copying .\\test_dr\\__init__.py -> build\\lib\\opendr\\test_dr\n",
      "creating build\\bdist.win-amd64\n",
      "creating build\\bdist.win-amd64\\egg\n",
      "creating build\\bdist.win-amd64\\egg\\opendr\n",
      "copying build\\lib\\opendr\\camera.py -> build\\bdist.win-amd64\\egg\\opendr\n",
      "copying build\\lib\\opendr\\common.py -> build\\bdist.win-amd64\\egg\\opendr\n",
      "creating build\\bdist.win-amd64\\egg\\opendr\\contexts\n",
      "copying build\\lib\\opendr\\contexts\\autogen.py -> build\\bdist.win-amd64\\egg\\opendr\\contexts\n",
      "copying build\\lib\\opendr\\contexts\\draw_triangle_shaders_2_1.py -> build\\bdist.win-amd64\\egg\\opendr\\contexts\n",
      "copying build\\lib\\opendr\\contexts\\draw_triangle_shaders_3_2.py -> build\\bdist.win-amd64\\egg\\opendr\\contexts\n",
      "copying build\\lib\\opendr\\contexts\\fix_warnings.py -> build\\bdist.win-amd64\\egg\\opendr\\contexts\n",
      "copying build\\lib\\opendr\\contexts\\_constants.py -> build\\bdist.win-amd64\\egg\\opendr\\contexts\n",
      "copying build\\lib\\opendr\\contexts\\__init__.py -> build\\bdist.win-amd64\\egg\\opendr\\contexts\n",
      "copying build\\lib\\opendr\\cvwrap.py -> build\\bdist.win-amd64\\egg\\opendr\n",
      "copying build\\lib\\opendr\\dummy.py -> build\\bdist.win-amd64\\egg\\opendr\n",
      "copying build\\lib\\opendr\\everything.py -> build\\bdist.win-amd64\\egg\\opendr\n",
      "copying build\\lib\\opendr\\filters.py -> build\\bdist.win-amd64\\egg\\opendr\n",
      "copying build\\lib\\opendr\\geometry.py -> build\\bdist.win-amd64\\egg\\opendr\n",
      "copying build\\lib\\opendr\\lighting.py -> build\\bdist.win-amd64\\egg\\opendr\n",
      "copying build\\lib\\opendr\\occlusion_test.py -> build\\bdist.win-amd64\\egg\\opendr\n",
      "copying build\\lib\\opendr\\renderer.py -> build\\bdist.win-amd64\\egg\\opendr\n",
      "copying build\\lib\\opendr\\rogrenderer.py -> build\\bdist.win-amd64\\egg\\opendr\n",
      "copying build\\lib\\opendr\\serialization.py -> build\\bdist.win-amd64\\egg\\opendr\n",
      "copying build\\lib\\opendr\\simple.py -> build\\bdist.win-amd64\\egg\\opendr\n",
      "copying build\\lib\\opendr\\slider_demo.py -> build\\bdist.win-amd64\\egg\\opendr\n",
      "copying build\\lib\\opendr\\test_camera.py -> build\\bdist.win-amd64\\egg\\opendr\n",
      "copying build\\lib\\opendr\\test_depth_renderer.py -> build\\bdist.win-amd64\\egg\\opendr\n",
      "creating build\\bdist.win-amd64\\egg\\opendr\\test_dr\n",
      "copying build\\lib\\opendr\\test_dr\\__init__.py -> build\\bdist.win-amd64\\egg\\opendr\\test_dr\n",
      "copying build\\lib\\opendr\\test_geometry.py -> build\\bdist.win-amd64\\egg\\opendr\n",
      "copying build\\lib\\opendr\\test_renderer.py -> build\\bdist.win-amd64\\egg\\opendr\n",
      "copying build\\lib\\opendr\\test_sh.py -> build\\bdist.win-amd64\\egg\\opendr\n",
      "copying build\\lib\\opendr\\topology.py -> build\\bdist.win-amd64\\egg\\opendr\n",
      "copying build\\lib\\opendr\\utils.py -> build\\bdist.win-amd64\\egg\\opendr\n",
      "copying build\\lib\\opendr\\util_tests.py -> build\\bdist.win-amd64\\egg\\opendr\n",
      "copying build\\lib\\opendr\\version.py -> build\\bdist.win-amd64\\egg\\opendr\n",
      "copying build\\lib\\opendr\\__init__.py -> build\\bdist.win-amd64\\egg\\opendr\n",
      "byte-compiling build\\bdist.win-amd64\\egg\\opendr\\camera.py to camera.cpython-37.pyc\n",
      "byte-compiling build\\bdist.win-amd64\\egg\\opendr\\common.py to common.cpython-37.pyc\n",
      "byte-compiling build\\bdist.win-amd64\\egg\\opendr\\contexts\\autogen.py to autogen.cpython-37.pyc\n",
      "byte-compiling build\\bdist.win-amd64\\egg\\opendr\\contexts\\draw_triangle_shaders_2_1.py to draw_triangle_shaders_2_1.cpython-37.pyc\n",
      "byte-compiling build\\bdist.win-amd64\\egg\\opendr\\contexts\\draw_triangle_shaders_3_2.py to draw_triangle_shaders_3_2.cpython-37.pyc\n",
      "byte-compiling build\\bdist.win-amd64\\egg\\opendr\\contexts\\fix_warnings.py to fix_warnings.cpython-37.pyc\n",
      "byte-compiling build\\bdist.win-amd64\\egg\\opendr\\contexts\\_constants.py to _constants.cpython-37.pyc\n",
      "byte-compiling build\\bdist.win-amd64\\egg\\opendr\\contexts\\__init__.py to __init__.cpython-37.pyc\n",
      "byte-compiling build\\bdist.win-amd64\\egg\\opendr\\cvwrap.py to cvwrap.cpython-37.pyc\n",
      "byte-compiling build\\bdist.win-amd64\\egg\\opendr\\dummy.py to dummy.cpython-37.pyc\n",
      "byte-compiling build\\bdist.win-amd64\\egg\\opendr\\everything.py to everything.cpython-37.pyc\n",
      "byte-compiling build\\bdist.win-amd64\\egg\\opendr\\filters.py to filters.cpython-37.pyc\n",
      "byte-compiling build\\bdist.win-amd64\\egg\\opendr\\geometry.py to geometry.cpython-37.pyc\n",
      "byte-compiling build\\bdist.win-amd64\\egg\\opendr\\lighting.py to lighting.cpython-37.pyc\n",
      "byte-compiling build\\bdist.win-amd64\\egg\\opendr\\occlusion_test.py to occlusion_test.cpython-37.pyc\n",
      "byte-compiling build\\bdist.win-amd64\\egg\\opendr\\renderer.py to renderer.cpython-37.pyc\n",
      "byte-compiling build\\bdist.win-amd64\\egg\\opendr\\rogrenderer.py to rogrenderer.cpython-37.pyc\n",
      "byte-compiling build\\bdist.win-amd64\\egg\\opendr\\serialization.py to serialization.cpython-37.pyc\n",
      "byte-compiling build\\bdist.win-amd64\\egg\\opendr\\simple.py to simple.cpython-37.pyc\n",
      "byte-compiling build\\bdist.win-amd64\\egg\\opendr\\slider_demo.py to slider_demo.cpython-37.pyc\n",
      "byte-compiling build\\bdist.win-amd64\\egg\\opendr\\test_camera.py to test_camera.cpython-37.pyc\n",
      "byte-compiling build\\bdist.win-amd64\\egg\\opendr\\test_depth_renderer.py to test_depth_renderer.cpython-37.pyc\n",
      "byte-compiling build\\bdist.win-amd64\\egg\\opendr\\test_dr\\__init__.py to __init__.cpython-37.pyc\n",
      "byte-compiling build\\bdist.win-amd64\\egg\\opendr\\test_geometry.py to test_geometry.cpython-37.pyc\n",
      "byte-compiling build\\bdist.win-amd64\\egg\\opendr\\test_renderer.py to test_renderer.cpython-37.pyc\n",
      "byte-compiling build\\bdist.win-amd64\\egg\\opendr\\test_sh.py to test_sh.cpython-37.pyc\n",
      "byte-compiling build\\bdist.win-amd64\\egg\\opendr\\topology.py to topology.cpython-37.pyc\n",
      "byte-compiling build\\bdist.win-amd64\\egg\\opendr\\utils.py to utils.cpython-37.pyc\n",
      "byte-compiling build\\bdist.win-amd64\\egg\\opendr\\util_tests.py to util_tests.cpython-37.pyc\n",
      "byte-compiling build\\bdist.win-amd64\\egg\\opendr\\version.py to version.cpython-37.pyc\n",
      "byte-compiling build\\bdist.win-amd64\\egg\\opendr\\__init__.py to __init__.cpython-37.pyc\n",
      "creating build\\bdist.win-amd64\\egg\\EGG-INFO\n",
      "copying opendr.egg-info\\PKG-INFO -> build\\bdist.win-amd64\\egg\\EGG-INFO\n",
      "copying opendr.egg-info\\SOURCES.txt -> build\\bdist.win-amd64\\egg\\EGG-INFO\n",
      "copying opendr.egg-info\\dependency_links.txt -> build\\bdist.win-amd64\\egg\\EGG-INFO\n",
      "copying opendr.egg-info\\requires.txt -> build\\bdist.win-amd64\\egg\\EGG-INFO\n",
      "copying opendr.egg-info\\top_level.txt -> build\\bdist.win-amd64\\egg\\EGG-INFO\n",
      "creating dist\n",
      "creating 'dist\\opendr-0.73-py3.7.egg' and adding 'build\\bdist.win-amd64\\egg' to it\n",
      "removing 'build\\bdist.win-amd64\\egg' (and everything under it)\n",
      "Processing opendr-0.73-py3.7.egg\n",
      "removing 'c:\\conda\\envs\\body_measurements\\lib\\site-packages\\opendr-0.73-py3.7.egg' (and everything under it)\n",
      "creating c:\\conda\\envs\\body_measurements\\lib\\site-packages\\opendr-0.73-py3.7.egg\n",
      "Extracting opendr-0.73-py3.7.egg to c:\\conda\\envs\\body_measurements\\lib\\site-packages\n",
      "Adding opendr 0.73 to easy-install.pth file\n",
      "\n",
      "Installed c:\\conda\\envs\\body_measurements\\lib\\site-packages\\opendr-0.73-py3.7.egg\n",
      "Processing dependencies for opendr==0.73\n",
      "Searching for matplotlib\n",
      "Reading https://pypi.org/simple/matplotlib/\n",
      "Downloading https://files.pythonhosted.org/packages/3a/e3/40af35a017737e27ff3a52c2efdd55e750fd8d881729cf3ffa9d1dd3936d/matplotlib-3.10.0rc1.tar.gz#sha256=1b3bddb1ac434d9a777ef5929379be6837cfd72864e808deed4a3496641c022b\n",
      "Best match: matplotlib 3.10.0rc1\n",
      "Processing matplotlib-3.10.0rc1.tar.gz\n",
      "C:\\Users\\cardo\\Desktop\\HAZTECH\\Final\n"
     ]
    },
    {
     "name": "stderr",
     "output_type": "stream",
     "text": [
      "c:\\conda\\envs\\body_measurements\\lib\\site-packages\\setuptools\\_distutils\\cmd.py:66: SetuptoolsDeprecationWarning: setup.py install is deprecated.\n",
      "!!\n",
      "\n",
      "        ********************************************************************************\n",
      "        Please avoid running ``setup.py`` directly.\n",
      "        Instead, use pypa/build, pypa/installer or other\n",
      "        standards-based tools.\n",
      "\n",
      "        See https://blog.ganssle.io/articles/2021/10/setup-py-deprecated.html for details.\n",
      "        ********************************************************************************\n",
      "\n",
      "!!\n",
      "  self.initialize_options()\n",
      "c:\\conda\\envs\\body_measurements\\lib\\site-packages\\setuptools\\_distutils\\cmd.py:66: EasyInstallDeprecationWarning: easy_install command is deprecated.\n",
      "!!\n",
      "\n",
      "        ********************************************************************************\n",
      "        Please avoid running ``setup.py`` and ``easy_install``.\n",
      "        Instead, use pypa/build, pypa/installer or other\n",
      "        standards-based tools.\n",
      "\n",
      "        See https://github.com/pypa/setuptools/issues/917 for details.\n",
      "        ********************************************************************************\n",
      "\n",
      "!!\n",
      "  self.initialize_options()\n",
      "zip_safe flag not set; analyzing archive contents...\n",
      "opendr.__pycache__.utils.cpython-37: module references __file__\n",
      "opendr.contexts.__pycache__.autogen.cpython-37: module references __file__\n",
      "error: Couldn't find a setup script in C:\\Users\\cardo\\AppData\\Local\\Temp\\easy_install-ngrbxrnp\\matplotlib-3.10.0rc1.tar.gz\n"
     ]
    },
    {
     "name": "stdout",
     "output_type": "stream",
     "text": [
      "Requirement already satisfied: opencv-python in c:\\conda\\envs\\body_measurements\\lib\\site-packages (4.10.0.84)\n",
      "Requirement already satisfied: numpy>=1.17.0 in c:\\conda\\envs\\body_measurements\\lib\\site-packages (from opencv-python) (1.21.6)\n",
      "Note: you may need to restart the kernel to use updated packages.\n",
      "Collecting numpy==1.16.1\n",
      "  Using cached numpy-1.16.1-cp37-cp37m-win_amd64.whl.metadata (1.9 kB)\n",
      "Using cached numpy-1.16.1-cp37-cp37m-win_amd64.whl (11.9 MB)\n",
      "Installing collected packages: numpy\n",
      "  Attempting uninstall: numpy\n",
      "    Found existing installation: numpy 1.21.6\n",
      "    Uninstalling numpy-1.21.6:\n",
      "      Successfully uninstalled numpy-1.21.6\n",
      "Successfully installed numpy-1.16.1\n",
      "Note: you may need to restart the kernel to use updated packages.\n"
     ]
    },
    {
     "name": "stderr",
     "output_type": "stream",
     "text": [
      "ERROR: pip's dependency resolver does not currently take into account all the packages that are installed. This behaviour is the source of the following dependency conflicts.\n",
      "pywavelets 1.3.0 requires numpy>=1.17.3, but you have numpy 1.16.1 which is incompatible.\n",
      "opencv-python 4.10.0.84 requires numpy>=1.17.0; python_version >= \"3.7\", but you have numpy 1.16.1 which is incompatible.\n",
      "scikit-image 0.19.3 requires numpy>=1.17.0, but you have numpy 1.16.1 which is incompatible.\n",
      "scipy 1.7.3 requires numpy<1.23.0,>=1.16.5, but you have numpy 1.16.1 which is incompatible.\n"
     ]
    },
    {
     "name": "stdout",
     "output_type": "stream",
     "text": [
      "Requirement already satisfied: scikit-image in c:\\conda\\envs\\body_measurements\\lib\\site-packages (0.19.3)\n",
      "Collecting numpy>=1.17.0 (from scikit-image)\n",
      "  Using cached numpy-1.21.6-cp37-cp37m-win_amd64.whl.metadata (2.2 kB)\n",
      "Requirement already satisfied: scipy>=1.4.1 in c:\\conda\\envs\\body_measurements\\lib\\site-packages (from scikit-image) (1.7.3)\n",
      "Requirement already satisfied: networkx>=2.2 in c:\\conda\\envs\\body_measurements\\lib\\site-packages (from scikit-image) (2.6.3)\n",
      "Requirement already satisfied: pillow!=7.1.0,!=7.1.1,!=8.3.0,>=6.1.0 in c:\\conda\\envs\\body_measurements\\lib\\site-packages (from scikit-image) (9.5.0)\n",
      "Requirement already satisfied: imageio>=2.4.1 in c:\\conda\\envs\\body_measurements\\lib\\site-packages (from scikit-image) (2.31.2)\n",
      "Requirement already satisfied: tifffile>=2019.7.26 in c:\\conda\\envs\\body_measurements\\lib\\site-packages (from scikit-image) (2021.11.2)\n",
      "Requirement already satisfied: PyWavelets>=1.1.1 in c:\\conda\\envs\\body_measurements\\lib\\site-packages (from scikit-image) (1.3.0)\n",
      "Requirement already satisfied: packaging>=20.0 in c:\\conda\\envs\\body_measurements\\lib\\site-packages (from scikit-image) (23.2)\n",
      "Using cached numpy-1.21.6-cp37-cp37m-win_amd64.whl (14.0 MB)\n",
      "Installing collected packages: numpy\n",
      "  Attempting uninstall: numpy\n",
      "    Found existing installation: numpy 1.16.1\n",
      "    Uninstalling numpy-1.16.1:\n",
      "      Successfully uninstalled numpy-1.16.1\n",
      "Successfully installed numpy-1.21.6\n",
      "Note: you may need to restart the kernel to use updated packages.\n",
      "Requirement already satisfied: protobuf==3.20.* in c:\\conda\\envs\\body_measurements\\lib\\site-packages (3.20.3)\n",
      "Note: you may need to restart the kernel to use updated packages.\n",
      "Requirement already satisfied: pyopengl==3.1.0 in c:\\conda\\envs\\body_measurements\\lib\\site-packages (3.1.0)\n",
      "Note: you may need to restart the kernel to use updated packages.\n"
     ]
    }
   ],
   "source": [
    "%pip install --upgrade pip\n",
    "%pip install --upgrade setuptools wheel\n",
    "%pip install tensorflow==1.13.1\n",
    "!git clone https://github.com/polmorenoc/opendr\n",
    "%cd \"C:\\\\Users\\\\cardo\\\\Desktop\\\\HAZTECH\\\\Final\\\\opendr\\\\opendr\"\n",
    "!python setup.py install\n",
    "%cd ../..\n",
    "%pip install opencv-python\n",
    "%pip install numpy==1.16.1\n",
    "%pip install --upgrade scikit-image\n",
    "%pip install protobuf==3.20.*\n",
    "%pip install pyopengl==3.1.0"
   ]
  },
  {
   "cell_type": "markdown",
   "metadata": {
    "id": "-UClz9_4MI8L"
   },
   "source": [
    "#Cloning Repo"
   ]
  },
  {
   "cell_type": "code",
   "execution_count": 1,
   "metadata": {},
   "outputs": [
    {
     "name": "stdout",
     "output_type": "stream",
     "text": [
      "/c/Users/cardo/Desktop/HAZTECH/Final\n"
     ]
    }
   ],
   "source": [
    "!pwd\n"
   ]
  },
  {
   "cell_type": "code",
   "execution_count": 7,
   "metadata": {
    "colab": {
     "base_uri": "https://localhost:8080/"
    },
    "id": "QtgOyNeoG6xI",
    "outputId": "bf10519a-0029-4195-aacb-69cf3a79aa87"
   },
   "outputs": [
    {
     "name": "stderr",
     "output_type": "stream",
     "text": [
      "Cloning into 'Human-Body-Measurements-using-Computer-Vision'...\n"
     ]
    }
   ],
   "source": [
    "!git clone https://github.com/farazBhatti/Human-Body-Measurements-using-Computer-Vision.git"
   ]
  },
  {
   "cell_type": "code",
   "execution_count": 8,
   "metadata": {},
   "outputs": [
    {
     "name": "stdout",
     "output_type": "stream",
     "text": [
      "git version 2.47.0.windows.2\n"
     ]
    }
   ],
   "source": [
    "!git --version"
   ]
  },
  {
   "cell_type": "code",
   "execution_count": 2,
   "metadata": {
    "colab": {
     "base_uri": "https://localhost:8080/"
    },
    "id": "4UkuxHeOG-xS",
    "outputId": "a5445057-0322-460d-8158-d4823ba7d57b"
   },
   "outputs": [
    {
     "name": "stdout",
     "output_type": "stream",
     "text": [
      "C:\\Users\\cardo\\Desktop\\HAZTECH\\Final\\Human-Body-Measurements-using-Computer-Vision\n"
     ]
    }
   ],
   "source": [
    "cd C:\\Users\\cardo\\Desktop\\HAZTECH\\Final\\Human-Body-Measurements-using-Computer-Vision"
   ]
  },
  {
   "cell_type": "markdown",
   "metadata": {
    "id": "xMeJdLTGMLXC"
   },
   "source": [
    "#Downloading PreTrained Models"
   ]
  },
  {
   "cell_type": "code",
   "execution_count": 10,
   "metadata": {
    "colab": {
     "base_uri": "https://localhost:8080/"
    },
    "id": "BHolJ7yKHHJD",
    "outputId": "956b1e3e-17d5-4fb0-ebf2-938545c5b753"
   },
   "outputs": [
    {
     "name": "stderr",
     "output_type": "stream",
     "text": [
      "  % Total    % Received % Xferd  Average Speed   Time    Time     Time  Current\n",
      "                                 Dload  Upload   Total   Spent    Left  Speed\n",
      "\n",
      "  0     0    0     0    0     0      0      0 --:--:-- --:--:-- --:--:--     0\n",
      "  0     0    0     0    0     0      0      0 --:--:-- --:--:-- --:--:--     0\n",
      "  0     0    0     0    0     0      0      0 --:--:--  0:00:01 --:--:--     0\n",
      "  0  367M    0 87896    0     0  38480      0  2:47:07  0:00:02  2:47:05 38533\n",
      "  0  367M    0  172k    0     0  53549      0  2:00:05  0:00:03  2:00:02 53608\n",
      "  0  367M    0  284k    0     0  66281      0  1:37:01  0:00:04  1:36:57 66323\n",
      "  0  367M    0  379k    0     0  73031      0  1:28:03  0:00:05  1:27:58 77032\n",
      "  0  367M    0  491k    0     0  79790      0  1:20:35  0:00:06  1:20:29  101k\n",
      "  0  367M    0  618k    0     0  87573      0  1:13:25  0:00:07  1:13:18  107k\n",
      "  0  367M    0  810k    0     0    98k      0  1:03:50  0:00:08  1:03:42  129k\n",
      "  0  367M    0 1128k    0     0   121k      0  0:51:52  0:00:09  0:51:43  171k\n",
      "  0  367M    0 1575k    0     0   153k      0  0:40:48  0:00:10  0:40:38  243k\n",
      "  0  367M    0 2212k    0     0   196k      0  0:31:54  0:00:11  0:31:43  348k\n",
      "  0  367M    0 3057k    0     0   246k      0  0:25:28  0:00:12  0:25:16  472k\n",
      "  1  367M    1 4061k    0     0   306k      0  0:20:31  0:00:13  0:20:18  646k\n",
      "  1  367M    1 4922k    0     0   345k      0  0:18:10  0:00:14  0:17:56  771k\n",
      "  1  367M    1 6053k    0     0   396k      0  0:15:50  0:00:15  0:15:35  890k\n",
      "  1  367M    1 7185k    0     0   442k      0  0:14:11  0:00:16  0:13:55  995k\n",
      "  2  367M    2 8268k    0     0   479k      0  0:13:05  0:00:17  0:12:48 1075k\n",
      "  2  367M    2 9496k    0     0   520k      0  0:12:04  0:00:18  0:11:46 1090k\n",
      "  2  367M    2 10.4M    0     0   554k      0  0:11:19  0:00:19  0:11:00 1149k\n",
      "  3  367M    3 11.4M    0     0   580k      0  0:10:48  0:00:20  0:10:28 1144k\n",
      "  3  367M    3 12.6M    0     0   611k      0  0:10:16  0:00:21  0:09:55 1159k\n",
      "  3  367M    3 13.9M    0     0   641k      0  0:09:47  0:00:22  0:09:25 1200k\n",
      "  4  367M    4 15.1M    0     0   667k      0  0:09:24  0:00:23  0:09:01 1205k\n",
      "  4  367M    4 16.6M    0     0   704k      0  0:08:55  0:00:24  0:08:31 1281k\n",
      "  5  367M    5 18.4M    0     0   746k      0  0:08:24  0:00:25  0:07:59 1415k\n",
      "  5  367M    5 20.3M    0     0   793k      0  0:07:54  0:00:26  0:07:28 1567k\n",
      "  6  367M    6 22.7M    0     0   853k      0  0:07:21  0:00:27  0:06:54 1797k\n",
      "  6  367M    6 25.5M    0     0   927k      0  0:06:46  0:00:28  0:06:18 2130k\n",
      "  7  367M    7 29.2M    0     0  1023k      0  0:06:08  0:00:29  0:05:39 2569k\n",
      "  9  367M    9 33.2M    0     0  1124k      0  0:05:35  0:00:30  0:05:05 3033k\n",
      " 10  367M   10 38.1M    0     0  1251k      0  0:05:01  0:00:31  0:04:30 3656k\n",
      " 12  367M   12 44.6M    0     0  1417k      0  0:04:25  0:00:32  0:03:53 4490k\n",
      " 13  367M   13 51.4M    0     0  1583k      0  0:03:57  0:00:33  0:03:24 5296k\n",
      " 16  367M   16 59.4M    0     0  1779k      0  0:03:31  0:00:34  0:02:57 6199k\n",
      " 18  367M   18 68.7M    0     0  1987k      0  0:03:09  0:00:35  0:02:34 7056k\n",
      " 19  367M   19 73.0M    0     0  2060k      0  0:03:02  0:00:36  0:02:26 7064k\n",
      " 21  367M   21 78.5M    0     0  2153k      0  0:02:54  0:00:37  0:02:17 6804k\n",
      " 22  367M   22 83.9M    0     0  2249k      0  0:02:47  0:00:38  0:02:09 6688k\n",
      " 24  367M   24 88.7M    0     0  2315k      0  0:02:42  0:00:39  0:02:03 5981k\n",
      " 25  367M   25 94.8M    0     0  2414k      0  0:02:36  0:00:40  0:01:56 5550k\n",
      " 27  367M   27  100M    0     0  2484k      0  0:02:31  0:00:41  0:01:50 5602k\n",
      " 28  367M   28  106M    0     0  2569k      0  0:02:26  0:00:42  0:01:44 5731k\n",
      " 30  367M   30  111M    0     0  2637k      0  0:02:22  0:00:43  0:01:39 5598k\n",
      " 31  367M   31  117M    0     0  2720k      0  0:02:18  0:00:44  0:01:34 5897k\n",
      " 33  367M   33  123M    0     0  2795k      0  0:02:14  0:00:45  0:01:29 5865k\n",
      " 35  367M   35  129M    0     0  2857k      0  0:02:11  0:00:46  0:01:25 5930k\n",
      " 36  367M   36  134M    0     0  2905k      0  0:02:09  0:00:47  0:01:22 5755k\n",
      " 36  367M   36  134M    0     0  2852k      0  0:02:12  0:00:48  0:01:24 4715k\n",
      " 38  367M   38  139M    0     0  2903k      0  0:02:09  0:00:49  0:01:20 4501k\n",
      " 38  367M   38  143M    0     0  2921k      0  0:02:08  0:00:50  0:01:18 4057k\n",
      " 39  367M   39  146M    0     0  2926k      0  0:02:08  0:00:51  0:01:17 3566k\n",
      " 40  367M   40  150M    0     0  2947k      0  0:02:07  0:00:52  0:01:15 3339k\n",
      " 41  367M   41  153M    0     0  2959k      0  0:02:07  0:00:53  0:01:14 3988k\n",
      " 42  367M   42  157M    0     0  2973k      0  0:02:06  0:00:54  0:01:12 3674k\n",
      " 43  367M   43  161M    0     0  2992k      0  0:02:05  0:00:55  0:01:10 3713k\n",
      " 44  367M   44  164M    0     0  3001k      0  0:02:05  0:00:56  0:01:09 3771k\n",
      " 45  367M   45  168M    0     0  3017k      0  0:02:04  0:00:57  0:01:07 3755k\n",
      " 46  367M   46  172M    0     0  3035k      0  0:02:04  0:00:58  0:01:06 3849k\n",
      " 47  367M   47  176M    0     0  3046k      0  0:02:03  0:00:59  0:01:04 3842k\n",
      " 48  367M   48  180M    0     0  3062k      0  0:02:03  0:01:00  0:01:03 3831k\n",
      " 50  367M   50  184M    0     0  3083k      0  0:02:02  0:01:01  0:01:01 4008k\n",
      " 51  367M   51  188M    0     0  3101k      0  0:02:01  0:01:02  0:00:59 4056k\n",
      " 52  367M   52  193M    0     0  3125k      0  0:02:00  0:01:03  0:00:57 4177k\n",
      " 53  367M   53  198M    0     0  3158k      0  0:01:59  0:01:04  0:00:55 4480k\n",
      " 55  367M   55  203M    0     0  3193k      0  0:01:57  0:01:05  0:00:52 4773k\n",
      " 56  367M   56  209M    0     0  3236k      0  0:01:56  0:01:06  0:00:50 5110k\n",
      " 58  367M   58  216M    0     0  3290k      0  0:01:54  0:01:07  0:00:47 5644k\n",
      " 60  367M   60  223M    0     0  3356k      0  0:01:52  0:01:08  0:00:44 6267k\n",
      " 62  367M   62  231M    0     0  3422k      0  0:01:50  0:01:09  0:00:41 6815k\n",
      " 65  367M   65  241M    0     0  3518k      0  0:01:47  0:01:10  0:00:37 7763k\n",
      " 68  367M   68  251M    0     0  3592k      0  0:01:44  0:01:11  0:00:33 7989k\n",
      " 69  367M   69  257M    0     0  3646k      0  0:01:43  0:01:12  0:00:31 8405k\n",
      " 72  367M   72  265M    0     0  3708k      0  0:01:41  0:01:13  0:00:28 8517k\n",
      " 74  367M   74  275M    0     0  3792k      0  0:01:39  0:01:14  0:00:25 8877k\n",
      " 77  367M   77  284M    0     0  3865k      0  0:01:37  0:01:15  0:00:22 8740k\n",
      " 78  367M   78  290M    0     0  3899k      0  0:01:36  0:01:16  0:00:20 8624k\n",
      " 81  367M   81  298M    0     0  3956k      0  0:01:35  0:01:17  0:00:18 8383k\n",
      " 83  367M   83  306M    0     0  4015k      0  0:01:33  0:01:18  0:00:15 8504k\n",
      " 85  367M   85  314M    0     0  4064k      0  0:01:32  0:01:19  0:00:13 8150k\n",
      " 87  367M   87  321M    0     0  4100k      0  0:01:31  0:01:20  0:00:11 7550k\n",
      " 88  367M   88  326M    0     0  4112k      0  0:01:31  0:01:21  0:00:10 7351k\n",
      " 89  367M   89  330M    0     0  4113k      0  0:01:31  0:01:22  0:00:09 6583k\n",
      " 91  367M   91  335M    0     0  4125k      0  0:01:31  0:01:23  0:00:08 5857k\n",
      " 92  367M   92  340M    0     0  4140k      0  0:01:31  0:01:24  0:00:07 5335k\n",
      " 93  367M   93  345M    0     0  4148k      0  0:01:30  0:01:25  0:00:05 4947k\n",
      " 95  367M   95  350M    0     0  4165k      0  0:01:30  0:01:26  0:00:04 5031k\n",
      " 96  367M   96  356M    0     0  4179k      0  0:01:30  0:01:27  0:00:03 5275k\n",
      " 98  367M   98  361M    0     0  4191k      0  0:01:29  0:01:28  0:00:01 5293k\n",
      " 99  367M   99  365M    0     0  4197k      0  0:01:29  0:01:29 --:--:-- 5160k\n",
      "100  367M  100  367M    0     0  4195k      0  0:01:29  0:01:29 --:--:-- 5068k\n",
      "  % Total    % Received % Xferd  Average Speed   Time    Time     Time  Current\n",
      "                                 Dload  Upload   Total   Spent    Left  Speed\n",
      "\n",
      "  0     0    0     0    0     0      0      0 --:--:-- --:--:-- --:--:--     0\n",
      "  0     0    0     0    0     0      0      0 --:--:-- --:--:-- --:--:--     0\n",
      "  % Total    % Received % Xferd  Average Speed   Time    Time     Time  Current\n",
      "                                 Dload  Upload   Total   Spent    Left  Speed\n",
      "\n",
      "  0     0    0     0    0     0      0      0 --:--:-- --:--:-- --:--:--     0\n",
      "  0     0    0     0    0     0      0      0 --:--:-- --:--:-- --:--:--     0\n",
      "  0     0    0     0    0     0      0      0 --:--:--  0:00:01 --:--:--     0\n",
      "  0     0    0     0    0     0      0      0 --:--:--  0:00:02 --:--:--     0curl: (6) Could not resolve host: data\n"
     ]
    }
   ],
   "source": [
    "!curl -O https://people.eecs.berkeley.edu/~kanazawa/cachedir/hmr/models.tar.gz && tar -xf models.tar.gz\n",
    "!curl -O https://github.com/farazBhatti/Human-Body-Measurements-using-Computer-Vision/files/5886235/customBodyPoints.txt -O data/customBodyPoints.txt"
   ]
  },
  {
   "cell_type": "markdown",
   "metadata": {
    "id": "5iCiCotnMOna"
   },
   "source": [
    "#Running Inference on Test Image"
   ]
  },
  {
   "cell_type": "code",
   "execution_count": 4,
   "metadata": {},
   "outputs": [
    {
     "name": "stdout",
     "output_type": "stream",
     "text": [
      "/c/Users/cardo/Desktop/HAZTECH/Final/Human-Body-Measurements-using-Computer-Vision\n"
     ]
    }
   ],
   "source": [
    "\n",
    "!pwd"
   ]
  },
  {
   "cell_type": "code",
   "execution_count": 3,
   "metadata": {},
   "outputs": [
    {
     "name": "stdout",
     "output_type": "stream",
     "text": [
      "c:\\Users\\cardo\\Desktop\\HAZTECH\\Final\\Human-Body-Measurements-using-Computer-Vision\n"
     ]
    }
   ],
   "source": [
    "%cd Human-Body-Measurements-using-Computer-Vision"
   ]
  },
  {
   "cell_type": "code",
   "execution_count": 5,
   "metadata": {
    "colab": {
     "base_uri": "https://localhost:8080/"
    },
    "id": "73bMt14pHPNT",
    "outputId": "f065305b-cf84-4076-ec3e-ebc25d47ae21"
   },
   "outputs": [
    {
     "name": "stdout",
     "output_type": "stream",
     "text": [
      "model loaded successfully!\n",
      "Iteration 0\n",
      "Iteration 1\n",
      "Reuse is on!\n",
      "Iteration 2\n",
      "Reuse is on!\n",
      "Restoring checkpoint models/model.ckpt-667589..\n",
      "$$$$$$$ (558, 253, 3)\n",
      "height: 72.000000\n",
      "waist: 36.096064\n",
      "belly: 37.365721\n",
      "chest: 42.452418\n",
      "wrist: 7.238699\n",
      "neck: 15.859904\n",
      "arm length: 21.939829\n",
      "thigh: 22.055819\n",
      "shoulder width: 20.559289\n",
      "hips: 40.467413\n",
      "ankle: 8.943610\n",
      "Model Saved...\n"
     ]
    },
    {
     "name": "stderr",
     "output_type": "stream",
     "text": [
      "c:\\conda\\envs\\body_measurements\\lib\\site-packages\\tensorflow\\python\\framework\\dtypes.py:526: FutureWarning: Passing (type, 1) or '1type' as a synonym of type is deprecated; in a future version of numpy, it will be understood as (type, (1,)) / '(1,)type'.\n",
      "  _np_qint8 = np.dtype([(\"qint8\", np.int8, 1)])\n",
      "c:\\conda\\envs\\body_measurements\\lib\\site-packages\\tensorflow\\python\\framework\\dtypes.py:527: FutureWarning: Passing (type, 1) or '1type' as a synonym of type is deprecated; in a future version of numpy, it will be understood as (type, (1,)) / '(1,)type'.\n",
      "  _np_quint8 = np.dtype([(\"quint8\", np.uint8, 1)])\n",
      "c:\\conda\\envs\\body_measurements\\lib\\site-packages\\tensorflow\\python\\framework\\dtypes.py:528: FutureWarning: Passing (type, 1) or '1type' as a synonym of type is deprecated; in a future version of numpy, it will be understood as (type, (1,)) / '(1,)type'.\n",
      "  _np_qint16 = np.dtype([(\"qint16\", np.int16, 1)])\n",
      "c:\\conda\\envs\\body_measurements\\lib\\site-packages\\tensorflow\\python\\framework\\dtypes.py:529: FutureWarning: Passing (type, 1) or '1type' as a synonym of type is deprecated; in a future version of numpy, it will be understood as (type, (1,)) / '(1,)type'.\n",
      "  _np_quint16 = np.dtype([(\"quint16\", np.uint16, 1)])\n",
      "c:\\conda\\envs\\body_measurements\\lib\\site-packages\\tensorflow\\python\\framework\\dtypes.py:530: FutureWarning: Passing (type, 1) or '1type' as a synonym of type is deprecated; in a future version of numpy, it will be understood as (type, (1,)) / '(1,)type'.\n",
      "  _np_qint32 = np.dtype([(\"qint32\", np.int32, 1)])\n",
      "c:\\conda\\envs\\body_measurements\\lib\\site-packages\\tensorflow\\python\\framework\\dtypes.py:535: FutureWarning: Passing (type, 1) or '1type' as a synonym of type is deprecated; in a future version of numpy, it will be understood as (type, (1,)) / '(1,)type'.\n",
      "  np_resource = np.dtype([(\"resource\", np.ubyte, 1)])\n",
      "2024-12-02 10:03:13.733870: I tensorflow/core/platform/cpu_feature_guard.cc:141] Your CPU supports instructions that this TensorFlow binary was not compiled to use: AVX2\n",
      "inference.py:63: DeprecationWarning: ANTIALIAS is deprecated and will be removed in Pillow 10 (2023-07-01). Use LANCZOS or Resampling.LANCZOS instead.\n",
      "  resized_image = image.convert('RGB').resize(target_size, Image.ANTIALIAS)\n",
      "WARNING:tensorflow:From c:\\conda\\envs\\body_measurements\\lib\\site-packages\\tensorflow\\python\\framework\\op_def_library.py:263: colocate_with (from tensorflow.python.framework.ops) is deprecated and will be removed in a future version.\n",
      "Instructions for updating:\n",
      "Colocations handled automatically by placer.\n",
      "WARNING:tensorflow:From c:\\Users\\cardo\\Desktop\\HAZTECH\\Final\\Human-Body-Measurements-using-Computer-Vision\\src\\tf_smpl\\batch_lbs.py:53: div (from tensorflow.python.ops.math_ops) is deprecated and will be removed in a future version.\n",
      "Instructions for updating:\n",
      "Deprecated in favor of operator or tf.math.divide.\n",
      "WARNING:tensorflow:From c:\\conda\\envs\\body_measurements\\lib\\site-packages\\tensorflow\\python\\training\\saver.py:1266: checkpoint_exists (from tensorflow.python.training.checkpoint_management) is deprecated and will be removed in a future version.\n",
      "Instructions for updating:\n",
      "Use standard file APIs to check for files with this prefix.\n",
      "2024-12-02 10:03:27.345923: W .\\tensorflow/core/grappler/optimizers/graph_optimizer_stage.h:241] Failed to run optimizer ArithmeticOptimizer, stage RemoveStackStridedSliceSameAxis node proj_2d_stage2/strided_slice. Error: Pack node (smpl_main_2/stack_1) axis attribute is out of bounds: 2\n",
      "2024-12-02 10:03:27.756355: W .\\tensorflow/core/grappler/optimizers/graph_optimizer_stage.h:241] Failed to run optimizer ArithmeticOptimizer, stage RemoveStackStridedSliceSameAxis node proj_2d_stage2/strided_slice. Error: Pack node (smpl_main_2/stack_1) axis attribute is out of bounds: 2\n"
     ]
    }
   ],
   "source": [
    "!python inference.py -i \"C:\\\\Users\\\\cardo\\\\Desktop\\\\HAZTECH\\\\Final\\\\Human-Body-Measurements-using-Computer-Vision\\\\sample_data\\\\input\\\\front.png\" -ht 72"
   ]
  }
 ],
 "metadata": {
  "colab": {
   "provenance": []
  },
  "kernelspec": {
   "display_name": "body_measurements",
   "language": "python",
   "name": "python3"
  },
  "language_info": {
   "codemirror_mode": {
    "name": "ipython",
    "version": 3
   },
   "file_extension": ".py",
   "mimetype": "text/x-python",
   "name": "python",
   "nbconvert_exporter": "python",
   "pygments_lexer": "ipython3",
   "version": "3.7.12"
  }
 },
 "nbformat": 4,
 "nbformat_minor": 0
}
